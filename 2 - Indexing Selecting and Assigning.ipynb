{
 "cells": [
  {
   "cell_type": "markdown",
   "metadata": {},
   "source": [
    "# ***Indexing, Selecting & Assigning***"
   ]
  },
  {
   "cell_type": "markdown",
   "metadata": {},
   "source": [
    "### First thing first - import the library and read the csv data"
   ]
  },
  {
   "cell_type": "code",
   "execution_count": null,
   "metadata": {},
   "outputs": [],
   "source": [
    "# import pandas\n",
    "import pandas as pd\n",
    "\n",
    "# read data - here we are using a public dataset consist avocado prices\n",
    "# original dataset link - http://www.hassavocadoboard.com/retail/volume-and-price-data\n",
    "\n",
    "data = pd.read_csv('archive/avocado.csv')\n",
    "\n",
    "data.drop(data.columns[[0]], axis=1, inplace=True)\n",
    "\n",
    "print(f'Shape of the dataframe: {data.shape}')"
   ]
  },
  {
   "cell_type": "code",
   "execution_count": null,
   "metadata": {},
   "outputs": [],
   "source": [
    "# for ease of view 2 rows are shown here\n",
    "data.head(2)"
   ]
  },
  {
   "cell_type": "code",
   "execution_count": null,
   "metadata": {},
   "outputs": [],
   "source": [
    "# details of the dataset - describes the column names, datatype of each column, how many non-null values are there\n",
    "data.info()"
   ]
  },
  {
   "cell_type": "code",
   "execution_count": null,
   "metadata": {},
   "outputs": [],
   "source": [
    "# a quick look to the mean, variance, standard deviation, min value, max value \n",
    "data.describe()"
   ]
  },
  {
   "cell_type": "markdown",
   "metadata": {},
   "source": [
    "# Accessing columns by their name"
   ]
  },
  {
   "cell_type": "markdown",
   "metadata": {},
   "source": [
    "We've two methods to accessing columns by their names - \n",
    "1. The dot ( **.** ) operator\n",
    "2. Using indexing ( [ ] ) operator\n",
    "\n",
    "For example we want to access the region column, check the below syntaxes"
   ]
  },
  {
   "cell_type": "code",
   "execution_count": null,
   "metadata": {},
   "outputs": [],
   "source": [
    "## 1. the dot operator\n",
    "regions = data.region\n",
    "\n",
    "# OR\n",
    "\n",
    "## 2. the indexing operator\n",
    "regions = data['region']\n",
    "\n",
    "regions"
   ]
  },
  {
   "cell_type": "markdown",
   "metadata": {},
   "source": [
    "We have a column named - 'Total bags', this column cannot be accessed using dot operator.\\\n",
    "Here we have to use the indexing operator, e.g. - data.Total Bags ❌ || data['Total Bags'] ✅"
   ]
  },
  {
   "cell_type": "markdown",
   "metadata": {},
   "source": [
    "# Indexing in Pandas\n",
    "\n",
    "Pandas has 2 accessor operators named - ***loc*** and ***iloc***. These operators are a bit advanced but you'll be familiarized with them soon."
   ]
  },
  {
   "cell_type": "markdown",
   "metadata": {},
   "source": [
    "## Index based selection - iloc\n",
    "\n",
    "Pandas indexing works in two paradigms - 1. index based, 2. label based. The first is index-based selection: selecting data based on its numerical position in the data. ***iloc*** follows this paradigm."
   ]
  },
  {
   "cell_type": "markdown",
   "metadata": {},
   "source": [
    "### Selecting rows:"
   ]
  },
  {
   "cell_type": "code",
   "execution_count": null,
   "metadata": {},
   "outputs": [],
   "source": [
    "# Syntax:\n",
    "# any_variable_name = data.iloc[index]\n",
    "\n",
    "# To select the first row of data in a DataFrame:\n",
    "first_row = data.iloc[0]    # --> it'll return the first row in a well managed manner\n",
    "\n",
    "# To select the second row of data in a DataFrame:\n",
    "second_row = data.iloc[1]\n",
    "\n",
    "print(first_row, second_row, sep='\\n-----------------------------\\n')"
   ]
  },
  {
   "cell_type": "markdown",
   "metadata": {},
   "source": [
    "### Selecting Columns:"
   ]
  },
  {
   "cell_type": "code",
   "execution_count": null,
   "metadata": {},
   "outputs": [],
   "source": [
    "# Syntax:\n",
    "# any_variable_name = data.iloc[: , index]\n",
    "# ref - Python slicing method(https://towardsdatascience.com/the-basics-of-indexing-and-slicing-python-lists-2d12c90a94cf)\n",
    "\n",
    "# To select the first column of data in a DataFrame:\n",
    "first_column = data.iloc[: , 0]\n",
    "# print(first_column)\n",
    "\n",
    "# To select the second column of data in a DataFrame:\n",
    "second_column = data.iloc[: , 1]\n",
    "# print(second_column)\n",
    "\n",
    "# Selecting first 5 rows of second column\n",
    "first_five_from_sec_column = data.iloc[:5 , 1]\n",
    "# print(first_five_from_sec_column)\n",
    "\n",
    "# Selecting some specific rows from second column:\n",
    "data.iloc[3:7, 1]   # either a range of rows can be passed or a list of indices\n",
    "\n",
    "# let's say we want row with index - 1, 3, 6, 10, 50 from first column\n",
    "data.iloc[[1, 3, 6, 10, 50], 0]"
   ]
  },
  {
   "cell_type": "markdown",
   "metadata": {},
   "source": [
    "*** NOTE: Reverse index (e.g.: -1, -2, -3, -4 etc..) also works"
   ]
  },
  {
   "cell_type": "markdown",
   "metadata": {},
   "source": [
    "## Label based selection\n",
    "\n",
    "The second paradigm for attribute selection is the one followed by the ***loc*** operator: label-based selection. In this paradigm, it's the data index value, not its position, which matters."
   ]
  },
  {
   "cell_type": "code",
   "execution_count": null,
   "metadata": {},
   "outputs": [],
   "source": [
    "# For example, to get the first entry in data:\n",
    "data.loc[0, ['region', 'Total Volume', 'AveragePrice']]"
   ]
  },
  {
   "cell_type": "code",
   "execution_count": null,
   "metadata": {},
   "outputs": [],
   "source": [
    "# To get specific rows of specific columns\n",
    "data.loc[[1,13,25,16,47,210,69,380], ['region', 'Total Volume', 'AveragePrice']]"
   ]
  },
  {
   "cell_type": "markdown",
   "metadata": {},
   "source": [
    "*** NOTE: iloc uses the Python stdlib indexing scheme, where the first element of the range is included and the last one excluded. So 0:10 will select entries 0,...,9. loc, meanwhile, indexes inclusively. So 0:10 will select entries 0,...,10."
   ]
  },
  {
   "cell_type": "markdown",
   "metadata": {},
   "source": [
    "# Manipulating the index\n",
    "\n",
    "In pandas dataframe the index field is not immutable. So, we can easily manipulate it by using the method ***.set_index()***."
   ]
  },
  {
   "cell_type": "code",
   "execution_count": null,
   "metadata": {},
   "outputs": [],
   "source": [
    "# all columns in our dataframe\n",
    "print(data.columns)"
   ]
  },
  {
   "cell_type": "code",
   "execution_count": null,
   "metadata": {},
   "outputs": [],
   "source": [
    "# let's set the index to the column 'Data':\n",
    "data.set_index('Date')\n",
    "# now index will be set to the values of Date column instead of 0,1,2... numeric series.\n",
    "\n",
    "# This is useful if you can come up with an index for the dataset which is better than the current one."
   ]
  },
  {
   "cell_type": "markdown",
   "metadata": {},
   "source": [
    "# Conditional Selection:\n",
    "\n",
    "Let's put some condition on our data. Why? Because, to do interesting and meaningful things with data we've to ask questions or put conditions on the data to filter things. For example - "
   ]
  },
  {
   "cell_type": "code",
   "execution_count": null,
   "metadata": {},
   "outputs": [],
   "source": [
    "# this will return a series of boolean 'True' where it matches and 'False' otherwise.\n",
    "data.region == 'Albany'"
   ]
  },
  {
   "cell_type": "markdown",
   "metadata": {},
   "source": [
    "### Now show all data from the region 'Albany' "
   ]
  },
  {
   "cell_type": "code",
   "execution_count": null,
   "metadata": {},
   "outputs": [],
   "source": [
    "# remember loc method? we'll be using it here\n",
    "data.loc[data.region == 'Albany']"
   ]
  },
  {
   "cell_type": "code",
   "execution_count": null,
   "metadata": {},
   "outputs": [],
   "source": [
    "# more than 1 condition - and operation\n",
    "data.loc[(data.region == 'Albany') & (data['AveragePrice'] > 1.4)]\n"
   ]
  },
  {
   "cell_type": "code",
   "execution_count": null,
   "metadata": {},
   "outputs": [],
   "source": [
    "# more than 1 condition - or operation\n",
    "data.loc[(data.region == 'Albany') | (data['AveragePrice'] <= 1.2)]"
   ]
  },
  {
   "cell_type": "markdown",
   "metadata": {},
   "source": [
    "The second is **isnull** (and its compliment **notnull**). These methods let you highlight values which are (or are not) empty (NaN). This ***.isnull()*** method returns the records where the specified column value is **null**. And its compliment ***.notnull()*** method helps you to select those records having **non-null** values in the specified column."
   ]
  },
  {
   "cell_type": "code",
   "execution_count": null,
   "metadata": {},
   "outputs": [],
   "source": [
    "# as our data here is fully cleaned previously so, there is no null values - this line returns empty table\n",
    "data.loc[data.AveragePrice.isnull()]"
   ]
  },
  {
   "cell_type": "code",
   "execution_count": null,
   "metadata": {},
   "outputs": [],
   "source": [
    "data.loc[data.AveragePrice.notnull()] # returns the whole dataset"
   ]
  },
  {
   "cell_type": "markdown",
   "metadata": {},
   "source": [
    "# Assigning Data\n",
    "\n",
    "### We can assign a new value to a column. For example - we can set the value of the total bags column to 0 --> \"data['Total Bags'] = 0\". "
   ]
  },
  {
   "cell_type": "code",
   "execution_count": null,
   "metadata": {},
   "outputs": [],
   "source": [
    "# Before setting value\n",
    "data['Total Bags']"
   ]
  },
  {
   "cell_type": "code",
   "execution_count": null,
   "metadata": {},
   "outputs": [],
   "source": [
    "data['Total Bags'] = 0\n",
    "\n",
    "data['Total Bags']"
   ]
  },
  {
   "cell_type": "code",
   "execution_count": null,
   "metadata": {},
   "outputs": [],
   "source": []
  }
 ],
 "metadata": {
  "interpreter": {
   "hash": "ac59ebe37160ed0dfa835113d9b8498d9f09ceb179beaac4002f036b9467c963"
  },
  "kernelspec": {
   "display_name": "Python 3.9.7 64-bit",
   "name": "python3"
  },
  "language_info": {
   "codemirror_mode": {
    "name": "ipython",
    "version": 3
   },
   "file_extension": ".py",
   "mimetype": "text/x-python",
   "name": "python",
   "nbconvert_exporter": "python",
   "pygments_lexer": "ipython3",
   "version": "3.9.7"
  },
  "orig_nbformat": 4
 },
 "nbformat": 4,
 "nbformat_minor": 2
}
